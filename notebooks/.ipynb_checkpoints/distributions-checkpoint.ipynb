{
 "cells": [
  {
   "cell_type": "code",
   "execution_count": 1,
   "metadata": {},
   "outputs": [],
   "source": [
    "import uproot\n",
    "import matplotlib.pyplot\n",
    "import numpy"
   ]
  },
  {
   "cell_type": "code",
   "execution_count": 6,
   "metadata": {},
   "outputs": [],
   "source": [
    "signal = uproot.open(\"/home/andrea/P2x/AD1_IBD/AD1_IBD_2020.root\")"
   ]
  },
  {
   "cell_type": "code",
   "execution_count": 7,
   "metadata": {},
   "outputs": [
    {
     "data": {
      "text/plain": [
       "[b'evt',\n",
       " b't_abs',\n",
       " b'Encapt',\n",
       " b'E',\n",
       " b'Esmear',\n",
       " b'maxseg',\n",
       " b'xyz',\n",
       " b'E_maxseg',\n",
       " b'E_adjacent',\n",
       " b'ncapt_psd',\n",
       " b'prompt_psd',\n",
       " b'segmult',\n",
       " b'diameter',\n",
       " b'tspread',\n",
       " b'ncapt_dt',\n",
       " b'n_seg',\n",
       " b'n_xyz',\n",
       " b'veto_t',\n",
       " b'detgeom',\n",
       " b'rxpwr']"
      ]
     },
     "execution_count": 7,
     "metadata": {},
     "output_type": "execute_result"
    }
   ],
   "source": [
    "signal[\"P2kIBDPlugin\"][\"Tibd\"].keys()"
   ]
  },
  {
   "cell_type": "code",
   "execution_count": 8,
   "metadata": {},
   "outputs": [],
   "source": [
    "signal_data = {}"
   ]
  },
  {
   "cell_type": "code",
   "execution_count": 9,
   "metadata": {},
   "outputs": [],
   "source": [
    "signal_data['Encapt'] = list(signal[\"P2kIBDPlugin\"][\"Tibd\"].array(\"Encapt\"))\n",
    "signal_data['t_abs'] = list(signal[\"P2kIBDPlugin\"][\"Tibd\"].array(\"t_abs\"))\n",
    "signal_data['E'] = list(signal[\"P2kIBDPlugin\"][\"Tibd\"].array(\"E\"))\n",
    "signal_data['Esmear'] = list(signal[\"P2kIBDPlugin\"][\"Tibd\"].array(\"Esmear\"))\n",
    "signal_data['maxseg'] = list(signal[\"P2kIBDPlugin\"][\"Tibd\"].array(\"maxseg\"))\n",
    "signal_data['ncapt_dt'] = list(signal[\"P2kIBDPlugin\"][\"Tibd\"].array(\"ncapt_dt\"))"
   ]
  },
  {
   "cell_type": "code",
   "execution_count": 10,
   "metadata": {},
   "outputs": [],
   "source": [
    "bckg = uproot.open(\"/home/andrea/P2x/RxOff.root\")"
   ]
  },
  {
   "cell_type": "code",
   "execution_count": 11,
   "metadata": {},
   "outputs": [],
   "source": [
    "bckg_data = {}"
   ]
  },
  {
   "cell_type": "code",
   "execution_count": 12,
   "metadata": {},
   "outputs": [],
   "source": [
    "bckg_data['Encapt'] = list(bckg[\"P2kIBDPlugin\"][\"Tibd\"].array(\"Encapt\"))\n",
    "bckg_data['t_abs'] = list(bckg[\"P2kIBDPlugin\"][\"Tibd\"].array(\"t_abs\"))\n",
    "bckg_data['E'] = list(bckg[\"P2kIBDPlugin\"][\"Tibd\"].array(\"E\"))\n",
    "bckg_data['Esmear'] = list(bckg[\"P2kIBDPlugin\"][\"Tibd\"].array(\"Esmear\"))\n",
    "bckg_data['maxseg'] = list(bckg[\"P2kIBDPlugin\"][\"Tibd\"].array(\"maxseg\"))\n",
    "bckg_data['ncapt_dt'] = list(bckg[\"P2kIBDPlugin\"][\"Tibd\"].array(\"ncapt_dt\"))"
   ]
  },
  {
   "cell_type": "code",
   "execution_count": 25,
   "metadata": {},
   "outputs": [],
   "source": [
    "import matplotlib.pyplot as plt\n",
    "import numpy as np\n",
    "import math"
   ]
  },
  {
   "cell_type": "code",
   "execution_count": 43,
   "metadata": {},
   "outputs": [
    {
     "data": {
      "image/png": "[encoded data removed]",
      "text/plain": [
       "<Figure size 432x288 with 1 Axes>"
      ]
     },
     "metadata": {
      "needs_background": "light"
     },
     "output_type": "display_data"
    }
   ],
   "source": [
    "#ax = plt.hist(signal_data['Encapt'])\n",
    "w = 0.01\n",
    "n = math.ceil((max(signal_data['Encapt']) - min(signal_data['Encapt']))/w)\n",
    "ax = plt.hist(signal_data['Encapt'], bins = n, fill=False, histtype='step')\n",
    "ax2 = plt.hist(bckg_data['Encapt'], bins = n, fill = False, histtype='step')"
   ]
  },
  {
   "cell_type": "code",
   "execution_count": null,
   "metadata": {},
   "outputs": [],
   "source": []
  },
  {
   "cell_type": "code",
   "execution_count": 23,
   "metadata": {},
   "outputs": [
    {
     "data": {
      "text/plain": [
       "(array([1000.]),\n",
       " array([ 0.44641343, 25.44641343]),\n",
       " <a list of 1 Patch objects>)"
      ]
     },
     "execution_count": 23,
     "metadata": {},
     "output_type": "execute_result"
    },
    {
     "data": {
      "image/png": "[encoded data removed]",
      "text/plain": [
       "<Figure size 432x288 with 1 Axes>"
      ]
     },
     "metadata": {
      "needs_background": "light"
     },
     "output_type": "display_data"
    }
   ],
   "source": [
    "plt.hist(signal_data['Encapt'], bins =np.arange(min(signal_data['Encapt']), max(signal_data['Encapt']) + 25., 25.))"
   ]
  },
  {
   "cell_type": "code",
   "execution_count": null,
   "metadata": {},
   "outputs": [],
   "source": []
  }
 ],
 "metadata": {
  "kernelspec": {
   "display_name": "Python 3",
   "language": "python",
   "name": "python3"
  },
  "language_info": {
   "codemirror_mode": {
    "name": "ipython",
    "version": 3
   },
   "file_extension": ".py",
   "mimetype": "text/x-python",
   "name": "python",
   "nbconvert_exporter": "python",
   "pygments_lexer": "ipython3",
   "version": "3.8.2"
  }
 },
 "nbformat": 4,
 "nbformat_minor": 4
}
