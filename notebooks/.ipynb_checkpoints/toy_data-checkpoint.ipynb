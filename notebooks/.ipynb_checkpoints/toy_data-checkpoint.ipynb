{
 "cells": [
  {
   "cell_type": "code",
   "execution_count": 1,
   "metadata": {},
   "outputs": [
    {
     "name": "stdout",
     "output_type": "stream",
     "text": [
      "Welcome to JupyROOT 6.18/00\n"
     ]
    }
   ],
   "source": [
    "import random, numpy, ROOT"
   ]
  },
  {
   "cell_type": "code",
   "execution_count": 2,
   "metadata": {},
   "outputs": [],
   "source": [
    "f_root = ROOT.TFile.Open('data.root','RECREATE')"
   ]
  },
  {
   "cell_type": "code",
   "execution_count": 3,
   "metadata": {},
   "outputs": [],
   "source": [
    "ntuple = ROOT.TNtuple(\"data\",\"data\",\"x1:x2:x3:x4:x5:x6:truth\")"
   ]
  },
  {
   "cell_type": "code",
   "execution_count": 5,
   "metadata": {},
   "outputs": [],
   "source": [
    "numpy_data = []\n",
    "for a in range(20000):\n",
    "    x =  [random.gauss(100.,5.) for i in range(6)]\n",
    "    ntuple.Fill(x[0],x[1],x[2],x[3],x[4],x[5],1.0)\n",
    "    numpy_data.append(x+[1.0])"
   ]
  },
  {
   "cell_type": "code",
   "execution_count": 6,
   "metadata": {},
   "outputs": [],
   "source": [
    "for a in range(20000):\n",
    "    x =  [random.gauss(95.0,5.) for i in range(6)]\n",
    "    ntuple.Fill(x[0],x[1],x[2],x[3],x[4],x[5],0.0)\n",
    "    numpy_data.append(x+[0.0])"
   ]
  },
  {
   "cell_type": "code",
   "execution_count": 7,
   "metadata": {},
   "outputs": [],
   "source": [
    "f_root.Write()\n",
    "f_root.Close()"
   ]
  },
  {
   "cell_type": "code",
   "execution_count": 8,
   "metadata": {},
   "outputs": [],
   "source": [
    "numpy_data_as_array = numpy.array(numpy_data)\n",
    "numpy.save('data.npy',numpy_data_as_array)"
   ]
  },
  {
   "cell_type": "code",
   "execution_count": null,
   "metadata": {},
   "outputs": [],
   "source": []
  }
 ],
 "metadata": {
  "kernelspec": {
   "display_name": "Python 3",
   "language": "python",
   "name": "python3"
  },
  "language_info": {
   "codemirror_mode": {
    "name": "ipython",
    "version": 3
   },
   "file_extension": ".py",
   "mimetype": "text/x-python",
   "name": "python",
   "nbconvert_exporter": "python",
   "pygments_lexer": "ipython3",
   "version": "3.7.4"
  }
 },
 "nbformat": 4,
 "nbformat_minor": 4
}
