{
 "cells": [
  {
   "cell_type": "code",
   "execution_count": 9,
   "metadata": {},
   "outputs": [],
   "source": [
    "import uproot\n",
    "import matplotlib.pyplot\n",
    "import numpy as np\n",
    "import h5py"
   ]
  },
  {
   "cell_type": "code",
   "execution_count": 13,
   "metadata": {},
   "outputs": [],
   "source": [
    "filename = \"/home/andrea//PG4-build/AD1_IBD_DetSim.h5\"\n",
    "with h5py.File(filename, \"r\") as f:    \n",
    "    data = np.array(f['PhysPulse'][:])"
   ]
  },
  {
   "cell_type": "code",
   "execution_count": 37,
   "metadata": {},
   "outputs": [
    {
     "data": {
      "text/plain": [
       "array([(10000, 131, 1.3819361 , 0.99974173, 1.27879523e+09, -7.313812 , [254.54237 , 682.0595  ], 446.7767 , 0.14544222, 1),\n",
       "       (10000, 131, 0.53829783, 0.16290988, 1.27880206e+09, -7.1233134, [103.10113 , 253.22646 ], 415.6269 , 0.25872284, 6),\n",
       "       (10001, 110, 0.10296696, 0.2826178 , 1.53018968e+09, -6.234887 , [ 19.484034,  42.622375], 365.1946 , 0.16309169, 1),\n",
       "       ...,\n",
       "       (19999,  30, 0.11112665, 0.89940226, 1.42815855e+14, -1.1492125, [ 31.624146,  36.46539 ],  64.4979 , 0.1711287 , 1),\n",
       "       (19999,  31, 0.04506421, 0.23972969, 1.42815855e+14, -2.5017633, [ 11.418966,  16.865778], 145.85689, 0.14345634, 1),\n",
       "       (19999,  15, 0.53888124, 0.81981534, 1.42815855e+14, -5.615771 , [113.563126, 228.66008 ], 327.85593, 0.26308125, 6)],\n",
       "      dtype={'names':['evt','seg','E','rand','t','dt','PE','y','PSD','PID'], 'formats':['<i8','<i4','<f4','<f4','<f8','<f4',('<f4', (2,)),'<f4','<f4','<i4'], 'offsets':[0,8,12,16,24,32,36,44,48,56], 'itemsize':64})"
      ]
     },
     "execution_count": 37,
     "metadata": {},
     "output_type": "execute_result"
    }
   ],
   "source": [
    "data"
   ]
  },
  {
   "cell_type": "code",
   "execution_count": null,
   "metadata": {},
   "outputs": [],
   "source": []
  },
  {
   "cell_type": "code",
   "execution_count": 30,
   "metadata": {},
   "outputs": [
    {
     "data": {
      "text/plain": [
       "(10001, 110, 0.10296696, 0.2826178, 1.53018968e+09, -6.234887, [19.484034, 42.622375], 365.1946, 0.16309169, 1)"
      ]
     },
     "execution_count": 30,
     "metadata": {},
     "output_type": "execute_result"
    }
   ],
   "source": [
    "data[2]"
   ]
  },
  {
   "cell_type": "code",
   "execution_count": 31,
   "metadata": {},
   "outputs": [
    {
     "data": {
      "text/plain": [
       "(10001, 109, 0.72967243, 0.9472011, 1.53018968e+09, -4.855179, [149.957  , 284.79675], 286.11075, 0.14286476, 1)"
      ]
     },
     "execution_count": 31,
     "metadata": {},
     "output_type": "execute_result"
    }
   ],
   "source": [
    "data[3]"
   ]
  },
  {
   "cell_type": "code",
   "execution_count": 35,
   "metadata": {},
   "outputs": [
    {
     "data": {
      "text/plain": [
       "(10001, 123, 1.3308387, 0.23165654, 1.53018968e+09, -8.951313, [211.19029, 679.37585], 541.9681, 0.14414993, 1)"
      ]
     },
     "execution_count": 35,
     "metadata": {},
     "output_type": "execute_result"
    }
   ],
   "source": [
    "data[4]"
   ]
  },
  {
   "cell_type": "code",
   "execution_count": 2,
   "metadata": {},
   "outputs": [],
   "source": [
    "signal = uproot.open(\"/home/andrea/PROSPECT_ML/data/MC_1.root\")"
   ]
  },
  {
   "cell_type": "code",
   "execution_count": 63,
   "metadata": {},
   "outputs": [
    {
     "data": {
      "text/plain": [
       "[b'evt',\n",
       " b't_abs',\n",
       " b'Encapt',\n",
       " b'E',\n",
       " b'Esmear',\n",
       " b'maxseg',\n",
       " b'xyz',\n",
       " b'E_maxseg',\n",
       " b'E_adjacent',\n",
       " b'ncapt_psd',\n",
       " b'prompt_psd',\n",
       " b'segmult',\n",
       " b'diameter',\n",
       " b'tspread',\n",
       " b'ncapt_dt',\n",
       " b'n_seg',\n",
       " b'n_xyz',\n",
       " b'veto_t',\n",
       " b'detgeom',\n",
       " b'rxpwr',\n",
       " b'dr']"
      ]
     },
     "execution_count": 63,
     "metadata": {},
     "output_type": "execute_result"
    }
   ],
   "source": [
    "signal[\"Tibd\"].keys()"
   ]
  },
  {
   "cell_type": "code",
   "execution_count": 64,
   "metadata": {},
   "outputs": [],
   "source": [
    "signal_data = {}"
   ]
  },
  {
   "cell_type": "code",
   "execution_count": 83,
   "metadata": {},
   "outputs": [],
   "source": [
    "signal_data['Encapt'] = list(signal[\"Tibd\"].array(\"Encapt\"))\n",
    "signal_data['t_abs'] = list(signal[\"Tibd\"].array(\"t_abs\"))\n",
    "signal_data['E'] = list(signal[\"Tibd\"].array(\"E\"))\n",
    "signal_data['Esmear'] = list(signal[\"Tibd\"].array(\"Esmear\"))\n",
    "signal_data['maxseg'] = list(signal[\"Tibd\"].array(\"maxseg\"))\n",
    "signal_data['ncapt_dt'] = list(signal[\"Tibd\"].array(\"ncapt_dt\"))\n",
    "signal_data['dr'] = list(signal[\"Tibd\"].array(\"dr\"))\n",
    "signal_data['xyz'] = list(signal[\"Tibd\"].array(\"xyz\"))\n",
    "signal_data['n_xyz'] = list(signal[\"Tibd\"].array(\"n_xyz\"))\n",
    "signal_data['ncapt_psd'] = list(signal[\"Tibd\"].array(\"ncapt_psd\"))"
   ]
  },
  {
   "cell_type": "code",
   "execution_count": 66,
   "metadata": {},
   "outputs": [],
   "source": [
    "bckg = uproot.open(\"/home/andrea/PROSPECT_ML/data/RxOff.root\")"
   ]
  },
  {
   "cell_type": "code",
   "execution_count": 67,
   "metadata": {},
   "outputs": [],
   "source": [
    "bckg_data = {}"
   ]
  },
  {
   "cell_type": "code",
   "execution_count": 84,
   "metadata": {},
   "outputs": [],
   "source": [
    "bckg_data['Encapt'] = list(bckg[\"Tibd\"].array(\"Encapt\"))\n",
    "bckg_data['t_abs'] = list(bckg[\"Tibd\"].array(\"t_abs\"))\n",
    "bckg_data['E'] = list(bckg[\"Tibd\"].array(\"E\"))\n",
    "bckg_data['Esmear'] = list(bckg[\"Tibd\"].array(\"Esmear\"))\n",
    "bckg_data['maxseg'] = list(bckg[\"Tibd\"].array(\"maxseg\"))\n",
    "bckg_data['ncapt_dt'] = list(bckg[\"Tibd\"].array(\"ncapt_dt\"))\n",
    "bckg_data['dr'] = list(bckg[\"Tibd\"].array(\"dr\"))\n",
    "bckg_data['xyz'] = list(bckg[\"Tibd\"].array(\"xyz\"))\n",
    "bckg_data['n_xyz'] = list(bckg[\"Tibd\"].array(\"n_xyz\"))\n",
    "bckg_data['ncapt_psd'] = list(bckg[\"Tibd\"].array(\"ncapt_psd\"))"
   ]
  },
  {
   "cell_type": "code",
   "execution_count": 86,
   "metadata": {},
   "outputs": [
    {
     "data": {
      "text/plain": [
       "array([795.85   , 578.8    ,  83.64907], dtype=float32)"
      ]
     },
     "execution_count": 86,
     "metadata": {},
     "output_type": "execute_result"
    }
   ],
   "source": [
    "bckg_data['xyz'][0]"
   ]
  },
  {
   "cell_type": "code",
   "execution_count": 69,
   "metadata": {},
   "outputs": [],
   "source": [
    "import matplotlib.pyplot as plt\n",
    "import numpy as np\n",
    "import math"
   ]
  },
  {
   "cell_type": "code",
   "execution_count": 70,
   "metadata": {},
   "outputs": [
    {
     "data": {
      "image/png": "[encoded data removed]",
      "text/plain": [
       "<Figure size 432x288 with 1 Axes>"
      ]
     },
     "metadata": {
      "needs_background": "light"
     },
     "output_type": "display_data"
    }
   ],
   "source": [
    "#ax = plt.hist(signal_data['Encapt'])\n",
    "w = 0.01\n",
    "n = math.ceil((max(signal_data['Encapt']) - min(signal_data['Encapt']))/w)\n",
    "ax = plt.hist(signal_data['Encapt'], bins = n, fill=False, histtype='step')\n",
    "ax2 = plt.hist(bckg_data['Encapt'], bins = n, fill = False, histtype='step')"
   ]
  },
  {
   "cell_type": "code",
   "execution_count": 71,
   "metadata": {},
   "outputs": [
    {
     "data": {
      "image/png": "[encoded data removed]",
      "text/plain": [
       "<Figure size 432x288 with 1 Axes>"
      ]
     },
     "metadata": {
      "needs_background": "light"
     },
     "output_type": "display_data"
    }
   ],
   "source": [
    "ax = plt.hist(signal_data['ncapt_dt'], bins = n, fill=False, histtype='step')\n",
    "ax2 = plt.hist(bckg_data['ncapt_dt'], bins = n, fill = False, histtype='step')"
   ]
  },
  {
   "cell_type": "code",
   "execution_count": 72,
   "metadata": {},
   "outputs": [
    {
     "data": {
      "image/png": "[encoded data removed]",
      "text/plain": [
       "<Figure size 432x288 with 1 Axes>"
      ]
     },
     "metadata": {
      "needs_background": "light"
     },
     "output_type": "display_data"
    }
   ],
   "source": [
    "ax = plt.hist(signal_data['dr'], bins = n, fill=False, histtype='step')\n",
    "ax2 = plt.hist(bckg_data['dr'], bins = n, fill = False, histtype='step')"
   ]
  },
  {
   "cell_type": "code",
   "execution_count": 73,
   "metadata": {},
   "outputs": [
    {
     "data": {
      "image/png": "[encoded data removed]",
      "text/plain": [
       "<Figure size 432x288 with 1 Axes>"
      ]
     },
     "metadata": {
      "needs_background": "light"
     },
     "output_type": "display_data"
    }
   ],
   "source": [
    "ax = plt.hist(signal_data['E'], bins = n, fill=False, histtype='step')\n",
    "ax2 = plt.hist(bckg_data['E'], bins = n, fill = False, histtype='step')"
   ]
  },
  {
   "cell_type": "code",
   "execution_count": 79,
   "metadata": {},
   "outputs": [
    {
     "data": {
      "image/png": "[encoded data removed]",
      "text/plain": [
       "<Figure size 432x288 with 1 Axes>"
      ]
     },
     "metadata": {
      "needs_background": "light"
     },
     "output_type": "display_data"
    }
   ],
   "source": [
    "ax = plt.hist(signal_data['xyz'][2], bins = n, fill=False, histtype='step')\n",
    "ax2 = plt.hist(bckg_data['xyz'][2], bins = n, fill = False, histtype='step')"
   ]
  },
  {
   "cell_type": "code",
   "execution_count": 82,
   "metadata": {},
   "outputs": [
    {
     "data": {
      "image/png": "[encoded data removed]",
      "text/plain": [
       "<Figure size 432x288 with 1 Axes>"
      ]
     },
     "metadata": {
      "needs_background": "light"
     },
     "output_type": "display_data"
    }
   ],
   "source": [
    "ax = plt.hist(signal_data['n_xyz'][0], bins = n, fill=False, histtype='step')\n",
    "ax2 = plt.hist(bckg_data['n_xyz'][0], bins = n, fill = False, histtype='step')"
   ]
  },
  {
   "cell_type": "code",
   "execution_count": 85,
   "metadata": {},
   "outputs": [
    {
     "data": {
      "image/png": "[encoded data removed]",
      "text/plain": [
       "<Figure size 432x288 with 1 Axes>"
      ]
     },
     "metadata": {
      "needs_background": "light"
     },
     "output_type": "display_data"
    }
   ],
   "source": [
    "ax = plt.hist(signal_data['ncapt_psd'][0], bins = n, fill=False, histtype='step')\n",
    "ax2 = plt.hist(bckg_data['ncapt_psd'][0], bins = n, fill = False, histtype='step')"
   ]
  },
  {
   "cell_type": "code",
   "execution_count": null,
   "metadata": {},
   "outputs": [],
   "source": []
  }
 ],
 "metadata": {
  "kernelspec": {
   "display_name": "Python 3",
   "language": "python",
   "name": "python3"
  },
  "language_info": {
   "codemirror_mode": {
    "name": "ipython",
    "version": 3
   },
   "file_extension": ".py",
   "mimetype": "text/x-python",
   "name": "python",
   "nbconvert_exporter": "python",
   "pygments_lexer": "ipython3",
   "version": "3.8.2"
  }
 },
 "nbformat": 4,
 "nbformat_minor": 4
}
